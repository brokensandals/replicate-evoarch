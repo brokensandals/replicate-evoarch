{
 "cells": [
  {
   "cell_type": "markdown",
   "metadata": {},
   "source": [
    "This is an attempt to partially replicate the model described in [\"The Evolution of Layered Protocol Stacks Leads to an Hourglass-Shaped Architecture\" (Saamer Akshabi, Constantine Dovrolis)](https://www.cc.gatech.edu/~dovrolis/Papers/evoarch.pdf), for fun."
   ]
  },
  {
   "cell_type": "code",
   "execution_count": null,
   "metadata": {},
   "outputs": [],
   "source": [
    "from typing import List\n",
    "\n",
    "def default_generalities(layers: int = 10) -> List[float]:\n",
    "    return [(layers - i - 1) / layers for i in range(layers)]\n",
    "\n",
    "print(f'Default generality vector: {default_generalities()}')"
   ]
  },
  {
   "cell_type": "code",
   "execution_count": null,
   "metadata": {},
   "outputs": [],
   "source": [
    "from dataclasses import dataclass, field\n",
    "\n",
    "@dataclass\n",
    "class Params:\n",
    "    generalities: List[float] = field(default_factory=default_generalities)  # aka s(l)\n",
    "    competition_threshold: float = 0.6  # aka c\n",
    "    init_nodes_per_layer: int = 10\n",
    "    birth_rate: float = 0.05\n",
    "    mortality: float = 1.0  # aka z\n",
    "    min_rounds: int = 100\n",
    "    max_nodes: int = 500\n",
    "\n",
    "print(f'Default model params: {Params()}')"
   ]
  },
  {
   "cell_type": "code",
   "execution_count": 6,
   "metadata": {},
   "outputs": [],
   "source": [
    "from __future__ import annotations\n",
    "from typing import Dict, Set\n",
    "\n",
    "@dataclass(eq=False)\n",
    "class Node:\n",
    "    layer: Layer\n",
    "    products: Set[Node] = field(default_factory=set)\n",
    "    value: int = 0\n",
    "    \n",
    "    def update_value(self) -> None:\n",
    "        if self.layer.is_top():\n",
    "            self.value = 1\n",
    "        else:\n",
    "            self.value = sum(node.value for node in self.products)\n",
    "\n",
    "@dataclass(eq=False)\n",
    "class Layer:\n",
    "    arch: Arch\n",
    "    seq: int\n",
    "    nodes: Set[Node]\n",
    "    \n",
    "    def create_node(self) -> Node:\n",
    "        return self.nodes.add(Node(layer=self))\n",
    "    \n",
    "    def is_top():\n",
    "        return self.seq == len(self.arch.layers) - 1\n",
    "\n",
    "@dataclass(eq=False)\n",
    "class Arch:\n",
    "    layers: List[Layer] = field(default_factory=list)\n",
    "    rounds: int = 0\n",
    "    \n",
    "    def create_layer(self) -> Layer:\n",
    "        layer = Layer(arch=self, seq=len(self.layers))\n",
    "        self.layers.append(layer)\n",
    "        return layer\n",
    "\n",
    "def update_value(arch: Arch, nid: int):\n",
    "    node = arch.nodes[nid]\n",
    "\n",
    "def create_arch(params):\n",
    "    arch = Arch()\n",
    "    nlayers = len(params.generalities)\n",
    "    for i in range(nlayers):\n",
    "        layer = arch.create_layer()\n",
    "        for j in range(params.init_nodes_per_layer):\n",
    "            layer.create_node()\n",
    "    for layer in reversed(arch.layers):\n",
    "        for node in layer.nodes:\n",
    "            node.update_value()\n",
    "    return arch"
   ]
  },
  {
   "cell_type": "code",
   "execution_count": null,
   "metadata": {},
   "outputs": [],
   "source": []
  }
 ],
 "metadata": {
  "kernelspec": {
   "display_name": "Python 3",
   "language": "python",
   "name": "python3"
  },
  "language_info": {
   "codemirror_mode": {
    "name": "ipython",
    "version": 3
   },
   "file_extension": ".py",
   "mimetype": "text/x-python",
   "name": "python",
   "nbconvert_exporter": "python",
   "pygments_lexer": "ipython3",
   "version": "3.7.7"
  }
 },
 "nbformat": 4,
 "nbformat_minor": 4
}
