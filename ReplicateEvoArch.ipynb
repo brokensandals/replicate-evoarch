{
 "cells": [
  {
   "cell_type": "markdown",
   "metadata": {},
   "source": [
    "This is an attempt to partially replicate the model described in [\"The Evolution of Layered Protocol Stacks Leads to an Hourglass-Shaped Architecture\" (Saamer Akshabi, Constantine Dovrolis)](https://www.cc.gatech.edu/~dovrolis/Papers/evoarch.pdf), for fun."
   ]
  },
  {
   "cell_type": "code",
   "execution_count": 3,
   "metadata": {},
   "outputs": [],
   "source": [
    "import random\n",
    "random.seed(1000)"
   ]
  },
  {
   "cell_type": "code",
   "execution_count": 1,
   "metadata": {},
   "outputs": [
    {
     "name": "stdout",
     "output_type": "stream",
     "text": [
      "Default generality vector: [0.9, 0.8, 0.7, 0.6, 0.5, 0.4, 0.3, 0.2, 0.1, 0.0]\n"
     ]
    }
   ],
   "source": [
    "from typing import List\n",
    "\n",
    "def default_generalities(layers: int = 10) -> List[float]:\n",
    "    return [(layers - i - 1) / layers for i in range(layers)]\n",
    "\n",
    "print(f'Default generality vector: {default_generalities()}')"
   ]
  },
  {
   "cell_type": "code",
   "execution_count": 2,
   "metadata": {},
   "outputs": [
    {
     "name": "stdout",
     "output_type": "stream",
     "text": [
      "Default model params: Params(generalities=[0.9, 0.8, 0.7, 0.6, 0.5, 0.4, 0.3, 0.2, 0.1, 0.0], competition_threshold=0.6, init_nodes_per_layer=10, birth_rate=0.05, mortality=1.0, min_rounds=100, max_nodes=500)\n"
     ]
    }
   ],
   "source": [
    "from dataclasses import dataclass, field\n",
    "\n",
    "@dataclass\n",
    "class Params:\n",
    "    generalities: List[float] = field(default_factory=default_generalities)  # aka s(l)\n",
    "    competition_threshold: float = 0.6  # aka c\n",
    "    init_nodes_per_layer: int = 10\n",
    "    birth_rate: float = 0.05\n",
    "    mortality: float = 1.0  # aka z\n",
    "    min_rounds: int = 100\n",
    "    max_nodes: int = 500\n",
    "\n",
    "print(f'Default model params: {Params()}')"
   ]
  },
  {
   "cell_type": "code",
   "execution_count": 7,
   "metadata": {},
   "outputs": [
    {
     "name": "stdout",
     "output_type": "stream",
     "text": [
      "Default model: Arch(params=Params(generalities=[0.9, 0.8, 0.7, 0.6, 0.5, 0.4, 0.3, 0.2, 0.1, 0.0], competition_threshold=0.6, init_nodes_per_layer=10, birth_rate=0.05, mortality=1.0, min_rounds=100, max_nodes=500), rounds_done=0, layers=[Layer(nodes={1: Node(product_nids={11, 12, 13, 14, 15, 16, 17, 18, 19, 20}, value=495079), 2: Node(product_nids={11, 12, 13, 14, 15, 17, 18, 19, 20}, value=452866), 3: Node(product_nids={12, 13, 14, 15, 17, 18, 19, 20}, value=410491), 4: Node(product_nids={11, 12, 13, 15, 16, 18, 19, 20}, value=395698), 5: Node(product_nids={12, 13, 14, 15, 16, 17, 18, 19, 20}, value=452704), 6: Node(product_nids={11, 14, 15, 16, 17, 19}, value=302572), 7: Node(product_nids={11, 12, 13, 14, 15, 16, 17, 18, 19, 20}, value=495079), 8: Node(product_nids={11, 12, 13, 14, 15, 16, 17, 18, 20}, value=432831), 9: Node(product_nids={11, 12, 13, 14, 16, 17, 18, 19, 20}, value=438724), 10: Node(product_nids={11, 13, 14, 15, 16, 17, 18, 19, 20}, value=450025)}), Layer(nodes={11: Node(product_nids={22, 24, 25, 26, 28, 29, 30}, value=42375), 12: Node(product_nids={21, 23, 24, 26, 28, 29, 30}, value=45054), 13: Node(product_nids={22, 23, 24, 25, 26, 27, 28, 30}, value=48829), 14: Node(product_nids={21, 23, 24, 25, 27, 29, 30}, value=44515), 15: Node(product_nids={21, 22, 23, 24, 26, 27, 28, 29, 30}, value=56355), 16: Node(product_nids={22, 24, 26, 27, 28, 29, 30}, value=42213), 17: Node(product_nids={21, 22, 23, 25, 26, 27, 28, 29, 30}, value=54866), 18: Node(product_nids={22, 23, 24, 26, 27, 29, 30}, value=43248), 19: Node(product_nids={21, 22, 23, 24, 25, 26, 27, 28, 29, 30}, value=62248), 20: Node(product_nids={21, 22, 24, 25, 26, 27, 28, 29, 30}, value=55376)}), Layer(nodes={21: Node(product_nids={32, 33, 34, 35, 36, 37, 39, 40, 31}, value=7270), 22: Node(product_nids={32, 36, 37, 38, 39, 40, 31}, value=5570), 23: Node(product_nids={32, 33, 34, 35, 37, 38, 39, 31}, value=6872), 24: Node(product_nids={32, 33, 34, 35, 37, 38, 39, 40, 31}, value=7382), 25: Node(product_nids={32, 33, 34, 35, 37, 39, 40}, value=5893), 26: Node(product_nids={33, 34, 35, 36, 37, 38, 39, 31}, value=6326), 27: Node(product_nids={32, 33, 34, 35, 38, 40, 31}, value=5731), 28: Node(product_nids={32, 34, 35, 37, 39, 40, 31}, value=5837), 29: Node(product_nids={33, 34, 35, 37, 38, 39, 40, 31}, value=6149), 30: Node(product_nids={32, 34, 35, 37, 38, 40}, value=5218)}), Layer(nodes={31: Node(product_nids={41, 43, 46, 47, 49}, value=690), 32: Node(product_nids={41, 42, 43, 44, 46, 47, 48, 49, 50}, value=1233), 33: Node(product_nids={41, 44, 47, 48, 49}, value=746), 34: Node(product_nids={41, 43, 46, 48, 49, 50}, value=755), 35: Node(product_nids={41, 42, 43, 45, 46, 47, 49, 50}, value=998), 36: Node(product_nids={41, 45, 46, 48, 50}, value=687), 37: Node(product_nids={41, 43, 44, 46, 47, 49, 50}, value=923), 38: Node(product_nids={41, 42, 43, 44, 48, 49}, value=799), 39: Node(product_nids={43, 44, 45, 47, 48, 49}, value=728), 40: Node(product_nids={48, 43, 45, 46}, value=510)}), Layer(nodes={41: Node(product_nids={51, 52, 55, 57, 59, 60}, value=177), 42: Node(product_nids={51, 52, 53, 55, 58}, value=149), 43: Node(product_nids={56, 51, 54}, value=74), 44: Node(product_nids={52, 53, 56, 58, 60}, value=159), 45: Node(product_nids={56, 59, 52}, value=85), 46: Node(product_nids={53, 55, 56, 57, 59}, value=190), 47: Node(product_nids={51, 54, 55, 57, 59, 60}, value=170), 48: Node(product_nids={57, 58, 60, 55}, value=161), 49: Node(product_nids={58, 52, 53}, value=79), 50: Node(product_nids={59, 51, 52, 60}, value=74)}), Layer(nodes={51: Node(product_nids={66, 69}, value=7), 52: Node(product_nids={68, 61, 62}, value=25), 53: Node(product_nids={65, 67, 62}, value=27), 54: Node(product_nids={67, 69}, value=18), 55: Node(product_nids={65, 67, 69, 70, 61, 62, 63}, value=63), 56: Node(product_nids={67, 68, 69, 62, 63}, value=49), 57: Node(product_nids={64, 65, 66, 68, 69, 63}, value=40), 58: Node(product_nids={64, 65, 67, 69}, value=27), 59: Node(product_nids={65, 61}, value=11), 60: Node(product_nids={66, 70, 63}, value=31)}), Layer(nodes={61: Node(product_nids={72, 75, 76}, value=6), 62: Node(product_nids={74, 75, 76}, value=7), 63: Node(product_nids={73, 74, 76, 77}, value=12), 64: Node(product_nids={73, 71}, value=4), 65: Node(product_nids={80, 74, 71}, value=5), 66: Node(product_nids={73}, value=4), 67: Node(product_nids={72, 76, 78, 79}, value=15), 68: Node(product_nids={72, 73, 77, 78}, value=12), 69: Node(product_nids={79, 71}, value=3), 70: Node(product_nids={71, 73, 75, 76, 78}, value=15)}), Layer(nodes={71: Node(product_nids={89}, value=0), 72: Node(product_nids={88}, value=1), 73: Node(product_nids={90, 86, 87}, value=4), 74: Node(product_nids={85, 86}, value=2), 75: Node(product_nids=set(), value=0), 76: Node(product_nids={90, 83, 84, 87}, value=5), 77: Node(product_nids={89, 86}, value=1), 78: Node(product_nids={84, 85, 87}, value=6), 79: Node(product_nids={88, 85, 86}, value=3), 80: Node(product_nids={89, 87}, value=3)}), Layer(nodes={81: Node(product_nids={96, 98}, value=2), 82: Node(product_nids=set(), value=0), 83: Node(product_nids=set(), value=0), 84: Node(product_nids={96, 92}, value=2), 85: Node(product_nids={94}, value=1), 86: Node(product_nids={93}, value=1), 87: Node(product_nids={100, 99, 92}, value=3), 88: Node(product_nids={97}, value=1), 89: Node(product_nids=set(), value=0), 90: Node(product_nids=set(), value=0)}), Layer(nodes={91: Node(product_nids=set(), value=1), 92: Node(product_nids=set(), value=1), 93: Node(product_nids=set(), value=1), 94: Node(product_nids=set(), value=1), 95: Node(product_nids=set(), value=1), 96: Node(product_nids=set(), value=1), 97: Node(product_nids=set(), value=1), 98: Node(product_nids=set(), value=1), 99: Node(product_nids=set(), value=1), 100: Node(product_nids=set(), value=1)})], prev_nid=100)\n"
     ]
    }
   ],
   "source": [
    "from __future__ import annotations\n",
    "from typing import Dict, Set\n",
    "\n",
    "@dataclass(eq=False)\n",
    "class Node:\n",
    "    product_nids: Set[int] = field(default_factory=set)\n",
    "    value: int = 0\n",
    "\n",
    "@dataclass(eq=False)\n",
    "class Layer:\n",
    "    nodes: Dict[int, Node] = field(default_factory=dict)\n",
    "\n",
    "@dataclass(eq=False)\n",
    "class Arch:\n",
    "    params: Params\n",
    "    rounds_done: int = 0\n",
    "    layers: List[Layer] = field(default_factory=list)\n",
    "    prev_nid: int = 0\n",
    "    \n",
    "    def next_nid(self) -> int:\n",
    "        self.prev_nid += 1\n",
    "        return self.prev_nid\n",
    "\n",
    "def assign_substrates(arch: Arch, lid: int, nid: int) -> None:\n",
    "    if lid == 0:\n",
    "        return\n",
    "    generality = arch.params.generalities[lid-1]\n",
    "    for candidate_nid, candidate in arch.layers[lid-1].nodes.items():\n",
    "        if random.random() < generality:\n",
    "            candidate.product_nids.add(nid)\n",
    "\n",
    "def update_value(arch: Arch, lid: int, nid: int) -> None:\n",
    "    node = arch.layers[lid].nodes[nid]\n",
    "    if lid == len(arch.layers) - 1:\n",
    "        node.value = 1\n",
    "    else:\n",
    "        node.value = sum(arch.layers[lid+1].nodes[p].value for p in node.product_nids)\n",
    "\n",
    "def create_arch(params):\n",
    "    arch = Arch(params)\n",
    "    nlayers = len(params.generalities)\n",
    "    \n",
    "    # Create initial nodes\n",
    "    for i in range(nlayers):\n",
    "        layer = Layer()\n",
    "        for j in range(params.init_nodes_per_layer):\n",
    "            layer.nodes[arch.next_nid()] = Node()\n",
    "        arch.layers.append(layer)\n",
    "    \n",
    "    # Choose substrates for initial nodes and calculate values\n",
    "    for lid in reversed(range(nlayers)):\n",
    "        for nid in arch.layers[lid].nodes:\n",
    "            update_value(arch, lid, nid)\n",
    "            assign_substrates(arch, lid, nid)\n",
    "    \n",
    "    return arch\n",
    "\n",
    "print(f'Default model: {create_arch(Params())}')"
   ]
  },
  {
   "cell_type": "code",
   "execution_count": null,
   "metadata": {},
   "outputs": [],
   "source": []
  }
 ],
 "metadata": {
  "kernelspec": {
   "display_name": "Python 3",
   "language": "python",
   "name": "python3"
  },
  "language_info": {
   "codemirror_mode": {
    "name": "ipython",
    "version": 3
   },
   "file_extension": ".py",
   "mimetype": "text/x-python",
   "name": "python",
   "nbconvert_exporter": "python",
   "pygments_lexer": "ipython3",
   "version": "3.7.7"
  }
 },
 "nbformat": 4,
 "nbformat_minor": 4
}
